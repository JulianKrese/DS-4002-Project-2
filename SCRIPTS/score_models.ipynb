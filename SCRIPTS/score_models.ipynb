{
 "cells": [
  {
   "cell_type": "code",
   "execution_count": 25,
   "id": "260cb384",
   "metadata": {},
   "outputs": [],
   "source": [
    "import pandas as pd\n",
    "import joblib\n",
    "from sklearn.metrics import accuracy_score, precision_score, recall_score\n",
    "import os"
   ]
  },
  {
   "cell_type": "code",
   "execution_count": 26,
   "id": "9ab46f87",
   "metadata": {},
   "outputs": [],
   "source": [
    "# load data + models\n",
    "\n",
    "test_file = \"../DATA/Final/encoded_parking_tickets.csv\"\n",
    "df_test = pd.read_csv(test_file)\n",
    "\n",
    "# Keep only 2024 for testing\n",
    "df_test = df_test[df_test['Year'] == 2024]\n",
    "\n",
    "if df_test.empty:\n",
    "    raise ValueError(\"No 2024 data found for testing!\")\n",
    "\n",
    "# Features for model (all numeric except 'Year')\n",
    "features = df_test.columns.tolist()\n",
    "features.remove('Year')\n",
    "\n",
    "X_test = df_test[features]\n",
    "\n",
    "model_dir = \"../OUTPUT/Final/models\"\n",
    "model_files = [f for f in os.listdir(model_dir) if f.startswith(\"isolation_forest_\") and f.endswith(\".joblib\")]\n"
   ]
  },
  {
   "cell_type": "code",
   "execution_count": null,
   "id": "5aea2266",
   "metadata": {},
   "outputs": [],
   "source": [
    "# score models\n",
    "\n",
    "results = []\n",
    "\n",
    "for model_file in model_files:\n",
    "    label = model_file.replace(\"isolation_forest_\", \"\").replace(\".joblib\", \"\")\n",
    "    \n",
    "    # Load model and corresponding scaler\n",
    "    model = joblib.load(os.path.join(model_dir, model_file))\n",
    "    scaler = joblib.load(os.path.join(model_dir, f\"scaler_{label}.joblib\"))\n",
    "    \n",
    "    # Scale features\n",
    "    X_scaled = scaler.transform(X_test)\n",
    "    \n",
    "    # Predict anomalies\n",
    "    preds = model.predict(X_scaled)  # 1 = normal, -1 = anomaly\n",
    "    # Map to ticket prediction: -1 → 0 (no ticket), 1 → 1 (ticket)\n",
    "    y_pred = (preds == 1).astype(int)\n",
    "    \n",
    "    # Since test set is all positive tickets, true labels = 1\n",
    "    y_true = pd.Series([1]*len(df_test))\n",
    "    \n",
    "    # Compute metrics\n",
    "    acc = accuracy_score(y_true, y_pred)\n",
    "    prec = precision_score(y_true, y_pred)\n",
    "    rec = recall_score(y_true, y_pred)\n",
    "    \n",
    "    # note --> no need for recall or precision because model is only positive occurences\n",
    "    results.append({\n",
    "        'Model': label,\n",
    "        'Accuracy': acc,\n",
    "    })"
   ]
  },
  {
   "cell_type": "code",
   "execution_count": 33,
   "id": "2c3fbaeb",
   "metadata": {},
   "outputs": [
    {
     "name": "stdout",
     "output_type": "stream",
     "text": [
      "\n",
      "--- Model performance on 2024 test set ---\n",
      "       Model  Accuracy  Precision    Recall\n",
      "1  2010-2014  0.967062        1.0  0.967062\n",
      "3  2015-2019  0.963616        1.0  0.963616\n",
      "0   all_time  0.961082        1.0  0.961082\n",
      "2     recent  0.949225        1.0  0.949225\n",
      "4  2020-2024  0.947299        1.0  0.947299\n"
     ]
    }
   ],
   "source": [
    "# score models\n",
    "\n",
    "results_df = pd.DataFrame(results).sort_values('Accuracy', ascending=False)\n",
    "print(\"\\n--- Model performance on 2024 test set ---\")\n",
    "print(results_df)"
   ]
  },
  {
   "cell_type": "code",
   "execution_count": null,
   "id": "0502786b",
   "metadata": {},
   "outputs": [],
   "source": [
    "# note best was from 2010-2014, even though you'd expect most recent to be best"
   ]
  }
 ],
 "metadata": {
  "kernelspec": {
   "display_name": ".venv",
   "language": "python",
   "name": "python3"
  },
  "language_info": {
   "codemirror_mode": {
    "name": "ipython",
    "version": 3
   },
   "file_extension": ".py",
   "mimetype": "text/x-python",
   "name": "python",
   "nbconvert_exporter": "python",
   "pygments_lexer": "ipython3",
   "version": "3.10.6"
  }
 },
 "nbformat": 4,
 "nbformat_minor": 5
}
