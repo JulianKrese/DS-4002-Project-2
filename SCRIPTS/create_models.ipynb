{
 "cells": [
  {
   "cell_type": "code",
   "execution_count": 34,
   "id": "4953d6e6",
   "metadata": {},
   "outputs": [],
   "source": [
    "import pandas as pd\n",
    "from sklearn.preprocessing import StandardScaler\n",
    "from sklearn.ensemble import IsolationForest\n",
    "import joblib\n",
    "import os\n",
    "import shutil"
   ]
  },
  {
   "cell_type": "code",
   "execution_count": 35,
   "id": "b3d404a5",
   "metadata": {},
   "outputs": [],
   "source": [
    "data_file = \"../DATA/Final/encoded_parking_tickets.csv\"\n",
    "df = pd.read_csv(data_file)\n",
    "\n",
    "# Features to use for modeling\n",
    "features = df.columns.tolist()\n",
    "features.remove('Year')\n",
    "X_features = features.copy()\n",
    "\n",
    "model_dir = \"../OUTPUT/Final/models\"\n",
    "shutil.rmtree(model_dir)\n",
    "os.makedirs(model_dir)\n",
    "\n",
    "# split by time frame\n",
    "def get_time_splits(df, start_year=2000, end_year=2023, chunk=5):\n",
    "    splits = {}\n",
    "    \n",
    "    # All-time\n",
    "    splits['all_time'] = df[df['Year'] <= end_year]\n",
    "    splits['recent'] = df[df['Year'] == 2023]\n",
    "    \n",
    "    # 5-year chunks (descending)\n",
    "    for y_end in range(end_year, start_year - 1, -chunk):\n",
    "        y_start = max(y_end - chunk + 1, start_year)\n",
    "        label = f\"{y_start}-{y_end}\"\n",
    "        df_split = df[(df['Year'] >= y_start) & (df['Year'] <= y_end)]\n",
    "        if len(df_split) > 2500:\n",
    "            splits[label] = df_split # don't want small datasets for training\n",
    "    \n",
    "    # Test set: 2024\n",
    "    test_df = df[df['Year'] == 2024]\n",
    "    \n",
    "    return splits, test_df\n",
    "\n",
    "splits, test_df = get_time_splits(df, start_year=df['Year'].min(), end_year=df['Year'].max())"
   ]
  },
  {
   "cell_type": "code",
   "execution_count": 36,
   "id": "ad1a187b",
   "metadata": {},
   "outputs": [
    {
     "name": "stdout",
     "output_type": "stream",
     "text": [
      "Training Isolation Forest for all_time (160454 rows)...\n",
      "Saved model to ../OUTPUT/Final/models/isolation_forest_all_time.joblib\n",
      "Saved scaler to ../OUTPUT/Final/models/scaler_all_time.joblib\n",
      "Training Isolation Forest for recent (15555 rows)...\n",
      "Saved model to ../OUTPUT/Final/models/isolation_forest_recent.joblib\n",
      "Saved scaler to ../OUTPUT/Final/models/scaler_recent.joblib\n",
      "Training Isolation Forest for 2020-2024 (52039 rows)...\n",
      "Saved model to ../OUTPUT/Final/models/isolation_forest_2020-2024.joblib\n",
      "Saved scaler to ../OUTPUT/Final/models/scaler_2020-2024.joblib\n",
      "Training Isolation Forest for 2015-2019 (80344 rows)...\n",
      "Saved model to ../OUTPUT/Final/models/isolation_forest_2015-2019.joblib\n",
      "Saved scaler to ../OUTPUT/Final/models/scaler_2015-2019.joblib\n",
      "Training Isolation Forest for 2010-2014 (28020 rows)...\n",
      "Saved model to ../OUTPUT/Final/models/isolation_forest_2010-2014.joblib\n",
      "Saved scaler to ../OUTPUT/Final/models/scaler_2010-2014.joblib\n"
     ]
    }
   ],
   "source": [
    "# train on each split\n",
    "for label, split_df in splits.items():\n",
    "\n",
    "    if split_df.empty:\n",
    "        print(f\"Skipping {label} — no data.\")\n",
    "        continue\n",
    "\n",
    "    print(f\"Training Isolation Forest for {label} ({len(split_df)} rows)...\")\n",
    "    \n",
    "    X = split_df[X_features]\n",
    "\n",
    "    # Scale features\n",
    "    scaler = StandardScaler()\n",
    "    X_scaled = scaler.fit_transform(X)\n",
    "\n",
    "    # Train model\n",
    "    model = IsolationForest(\n",
    "        n_estimators=100,\n",
    "        contamination=0.05,\n",
    "        random_state=42\n",
    "    )\n",
    "    model.fit(X_scaled)\n",
    "    \n",
    "    # Save both model and scaler\n",
    "    model_file = f\"{model_dir}/isolation_forest_{label}.joblib\"\n",
    "    scaler_file = f\"{model_dir}/scaler_{label}.joblib\"\n",
    "    joblib.dump(model, model_file)\n",
    "    joblib.dump(scaler, scaler_file)\n",
    "    \n",
    "    print(f\"Saved model to {model_file}\")\n",
    "    print(f\"Saved scaler to {scaler_file}\")"
   ]
  }
 ],
 "metadata": {
  "kernelspec": {
   "display_name": ".venv",
   "language": "python",
   "name": "python3"
  },
  "language_info": {
   "codemirror_mode": {
    "name": "ipython",
    "version": 3
   },
   "file_extension": ".py",
   "mimetype": "text/x-python",
   "name": "python",
   "nbconvert_exporter": "python",
   "pygments_lexer": "ipython3",
   "version": "3.10.6"
  }
 },
 "nbformat": 4,
 "nbformat_minor": 5
}
